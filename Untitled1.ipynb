{
  "nbformat": 4,
  "nbformat_minor": 0,
  "metadata": {
    "colab": {
      "private_outputs": true,
      "provenance": [],
      "authorship_tag": "ABX9TyOUuzwxx1eo3iafAu5Wgf+l",
      "include_colab_link": true
    },
    "kernelspec": {
      "name": "python3",
      "display_name": "Python 3"
    },
    "language_info": {
      "name": "python"
    }
  },
  "cells": [
    {
      "cell_type": "markdown",
      "metadata": {
        "id": "view-in-github",
        "colab_type": "text"
      },
      "source": [
        "<a href=\"https://colab.research.google.com/github/devil973/SMFD/blob/main/Untitled1.ipynb\" target=\"_parent\"><img src=\"https://colab.research.google.com/assets/colab-badge.svg\" alt=\"Open In Colab\"/></a>"
      ]
    },
    {
      "cell_type": "code",
      "execution_count": null,
      "metadata": {
        "id": "E9iybfba_-I8"
      },
      "outputs": [],
      "source": [
        "from scipy.stats import norm\n",
        "from scipy.integrate import quad\n",
        "import numpy as np\n",
        "\n",
        "# Parameters\n",
        "mu = 100          # Mean of S_T\n",
        "K = 105           # Strike price\n",
        "sigma_daily = np.sqrt(np.pi / 2)  # Daily volatility ≈1.2533\n",
        "sigma_10 = sigma_daily * np.sqrt(10)  # 10-day volatility ≈3.9633\n",
        "\n",
        "# Define the integrand: (S - K) * PDF(S)\n",
        "def integrand(S):\n",
        "    return (S - K) * norm.pdf(S, loc=mu, scale=sigma_10)\n",
        "\n",
        "# Numerical integration from 105 to infinity (practically, a large upper bound)\n",
        "result, _ = quad(integrand, K, np.inf)\n",
        "print(f\"Expected payoff ≈ {result:.4f}\")  # Output: 0.1957\n"
      ]
    }
  ]
}